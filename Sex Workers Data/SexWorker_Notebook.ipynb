{
 "cells": [
  {
   "cell_type": "code",
   "execution_count": 84,
   "metadata": {},
   "outputs": [],
   "source": [
    "#year of data= 2016\n",
    "\n",
    "\n",
    "\n",
    "\n",
    "\n"
   ]
  },
  {
   "cell_type": "code",
   "execution_count": 85,
   "metadata": {},
   "outputs": [],
   "source": [
    "import pandas as pd\n",
    "import numpy as np\n",
    "import seaborn as sns\n",
    "from sklearn import metrics\n",
    "from sklearn.metrics import r2_score\n",
    "\n",
    "\n",
    "from sklearn.model_selection import train_test_split\n",
    "import matplotlib.pyplot as plt\n",
    "%matplotlib inline"
   ]
  },
  {
   "cell_type": "code",
   "execution_count": 86,
   "metadata": {},
   "outputs": [
    {
     "data": {
      "text/html": [
       "<div>\n",
       "<style scoped>\n",
       "    .dataframe tbody tr th:only-of-type {\n",
       "        vertical-align: middle;\n",
       "    }\n",
       "\n",
       "    .dataframe tbody tr th {\n",
       "        vertical-align: top;\n",
       "    }\n",
       "\n",
       "    .dataframe thead th {\n",
       "        text-align: right;\n",
       "    }\n",
       "</style>\n",
       "<table border=\"1\" class=\"dataframe\">\n",
       "  <thead>\n",
       "    <tr style=\"text-align: right;\">\n",
       "      <th></th>\n",
       "      <th>Country</th>\n",
       "      <th>Number of prostitutesSource: UNAIDS 2016Sex Workers: Size Estimates[4]</th>\n",
       "      <th>Number of prostitutesOther sources and year</th>\n",
       "      <th>Population[5]</th>\n",
       "      <th>Prevalence(prostitutes per10,000 population)</th>\n",
       "    </tr>\n",
       "  </thead>\n",
       "  <tbody>\n",
       "    <tr>\n",
       "      <th>0</th>\n",
       "      <td>Afghanistan</td>\n",
       "      <td>13,000</td>\n",
       "      <td>NaN</td>\n",
       "      <td>34,656,032</td>\n",
       "      <td>4</td>\n",
       "    </tr>\n",
       "    <tr>\n",
       "      <th>1</th>\n",
       "      <td>Albania</td>\n",
       "      <td>NaN</td>\n",
       "      <td>5,000 - 30,000 (2006)[6]</td>\n",
       "      <td>2,926,348</td>\n",
       "      <td>17 - 103</td>\n",
       "    </tr>\n",
       "    <tr>\n",
       "      <th>2</th>\n",
       "      <td>Algeria</td>\n",
       "      <td>NaN</td>\n",
       "      <td>No data</td>\n",
       "      <td>40,606,052</td>\n",
       "      <td>-</td>\n",
       "    </tr>\n",
       "    <tr>\n",
       "      <th>3</th>\n",
       "      <td>Angola</td>\n",
       "      <td>33,000</td>\n",
       "      <td>NaN</td>\n",
       "      <td>28,813,463</td>\n",
       "      <td>12</td>\n",
       "    </tr>\n",
       "    <tr>\n",
       "      <th>4</th>\n",
       "      <td>Antigua and Barbuda</td>\n",
       "      <td>755</td>\n",
       "      <td>NaN</td>\n",
       "      <td>100,963</td>\n",
       "      <td>75</td>\n",
       "    </tr>\n",
       "  </tbody>\n",
       "</table>\n",
       "</div>"
      ],
      "text/plain": [
       "               Country  \\\n",
       "0          Afghanistan   \n",
       "1              Albania   \n",
       "2              Algeria   \n",
       "3               Angola   \n",
       "4  Antigua and Barbuda   \n",
       "\n",
       "  Number of prostitutesSource: UNAIDS 2016Sex Workers: Size Estimates[4]  \\\n",
       "0                                             13,000                       \n",
       "1                                                NaN                       \n",
       "2                                                NaN                       \n",
       "3                                             33,000                       \n",
       "4                                                755                       \n",
       "\n",
       "  Number of prostitutesOther sources and year Population[5]  \\\n",
       "0                                         NaN    34,656,032   \n",
       "1                    5,000 - 30,000 (2006)[6]     2,926,348   \n",
       "2                                     No data    40,606,052   \n",
       "3                                         NaN    28,813,463   \n",
       "4                                         NaN       100,963   \n",
       "\n",
       "  Prevalence(prostitutes per10,000 population)  \n",
       "0                                            4  \n",
       "1                                     17 - 103  \n",
       "2                                            -  \n",
       "3                                           12  \n",
       "4                                           75  "
      ]
     },
     "execution_count": 86,
     "metadata": {},
     "output_type": "execute_result"
    }
   ],
   "source": [
    "data=pd.read_csv('2016_data.csv')\n",
    "data.head(5)"
   ]
  },
  {
   "cell_type": "code",
   "execution_count": 87,
   "metadata": {},
   "outputs": [],
   "source": [
    "#removing columns which wont be that vital\n",
    "\n",
    "data=data.drop('Number of prostitutesOther sources and year' ,axis=1)"
   ]
  },
  {
   "cell_type": "code",
   "execution_count": 88,
   "metadata": {},
   "outputs": [
    {
     "data": {
      "text/html": [
       "<div>\n",
       "<style scoped>\n",
       "    .dataframe tbody tr th:only-of-type {\n",
       "        vertical-align: middle;\n",
       "    }\n",
       "\n",
       "    .dataframe tbody tr th {\n",
       "        vertical-align: top;\n",
       "    }\n",
       "\n",
       "    .dataframe thead th {\n",
       "        text-align: right;\n",
       "    }\n",
       "</style>\n",
       "<table border=\"1\" class=\"dataframe\">\n",
       "  <thead>\n",
       "    <tr style=\"text-align: right;\">\n",
       "      <th></th>\n",
       "      <th>Country</th>\n",
       "      <th>Number of prostitutesSource: UNAIDS 2016Sex Workers: Size Estimates[4]</th>\n",
       "      <th>Population[5]</th>\n",
       "      <th>Prevalence(prostitutes per10,000 population)</th>\n",
       "    </tr>\n",
       "  </thead>\n",
       "  <tbody>\n",
       "    <tr>\n",
       "      <th>0</th>\n",
       "      <td>Afghanistan</td>\n",
       "      <td>13,000</td>\n",
       "      <td>34,656,032</td>\n",
       "      <td>4</td>\n",
       "    </tr>\n",
       "    <tr>\n",
       "      <th>1</th>\n",
       "      <td>Albania</td>\n",
       "      <td>NaN</td>\n",
       "      <td>2,926,348</td>\n",
       "      <td>17 - 103</td>\n",
       "    </tr>\n",
       "    <tr>\n",
       "      <th>2</th>\n",
       "      <td>Algeria</td>\n",
       "      <td>NaN</td>\n",
       "      <td>40,606,052</td>\n",
       "      <td>-</td>\n",
       "    </tr>\n",
       "    <tr>\n",
       "      <th>3</th>\n",
       "      <td>Angola</td>\n",
       "      <td>33,000</td>\n",
       "      <td>28,813,463</td>\n",
       "      <td>12</td>\n",
       "    </tr>\n",
       "    <tr>\n",
       "      <th>4</th>\n",
       "      <td>Antigua and Barbuda</td>\n",
       "      <td>755</td>\n",
       "      <td>100,963</td>\n",
       "      <td>75</td>\n",
       "    </tr>\n",
       "  </tbody>\n",
       "</table>\n",
       "</div>"
      ],
      "text/plain": [
       "               Country  \\\n",
       "0          Afghanistan   \n",
       "1              Albania   \n",
       "2              Algeria   \n",
       "3               Angola   \n",
       "4  Antigua and Barbuda   \n",
       "\n",
       "  Number of prostitutesSource: UNAIDS 2016Sex Workers: Size Estimates[4]  \\\n",
       "0                                             13,000                       \n",
       "1                                                NaN                       \n",
       "2                                                NaN                       \n",
       "3                                             33,000                       \n",
       "4                                                755                       \n",
       "\n",
       "  Population[5] Prevalence(prostitutes per10,000 population)  \n",
       "0    34,656,032                                            4  \n",
       "1     2,926,348                                     17 - 103  \n",
       "2    40,606,052                                            -  \n",
       "3    28,813,463                                           12  \n",
       "4       100,963                                           75  "
      ]
     },
     "execution_count": 88,
     "metadata": {},
     "output_type": "execute_result"
    }
   ],
   "source": [
    "#new data\n",
    "\n",
    "data.head()"
   ]
  },
  {
   "cell_type": "code",
   "execution_count": 89,
   "metadata": {},
   "outputs": [],
   "source": [
    "#deleting entries without full data\n",
    "\n",
    "data=data.dropna()"
   ]
  },
  {
   "cell_type": "code",
   "execution_count": 90,
   "metadata": {},
   "outputs": [
    {
     "name": "stdout",
     "output_type": "stream",
     "text": [
      "<class 'pandas.core.frame.DataFrame'>\n",
      "Int64Index: 118 entries, 0 to 175\n",
      "Data columns (total 4 columns):\n",
      "Country                                                                   118 non-null object\n",
      "Number of prostitutesSource: UNAIDS 2016Sex Workers: Size Estimates[4]    118 non-null object\n",
      "Population[5]                                                             118 non-null object\n",
      "Prevalence(prostitutes per10,000 population)                              118 non-null object\n",
      "dtypes: object(4)\n",
      "memory usage: 4.6+ KB\n"
     ]
    }
   ],
   "source": [
    "#getting to know about data\n",
    "\n",
    "data.info()"
   ]
  },
  {
   "cell_type": "code",
   "execution_count": 91,
   "metadata": {},
   "outputs": [],
   "source": [
    "data=data.rename(columns={'Number of prostitutesSource: UNAIDS 2016Sex Workers: Size Estimates[4]':'num',\n",
    "                          'Population[5]':'pop','Prevalence(prostitutes per10,000 population)':'prev'})"
   ]
  },
  {
   "cell_type": "code",
   "execution_count": 92,
   "metadata": {},
   "outputs": [
    {
     "data": {
      "text/html": [
       "<div>\n",
       "<style scoped>\n",
       "    .dataframe tbody tr th:only-of-type {\n",
       "        vertical-align: middle;\n",
       "    }\n",
       "\n",
       "    .dataframe tbody tr th {\n",
       "        vertical-align: top;\n",
       "    }\n",
       "\n",
       "    .dataframe thead th {\n",
       "        text-align: right;\n",
       "    }\n",
       "</style>\n",
       "<table border=\"1\" class=\"dataframe\">\n",
       "  <thead>\n",
       "    <tr style=\"text-align: right;\">\n",
       "      <th></th>\n",
       "      <th>Country</th>\n",
       "      <th>num</th>\n",
       "      <th>pop</th>\n",
       "      <th>prev</th>\n",
       "    </tr>\n",
       "  </thead>\n",
       "  <tbody>\n",
       "    <tr>\n",
       "      <th>0</th>\n",
       "      <td>Afghanistan</td>\n",
       "      <td>13,000</td>\n",
       "      <td>34,656,032</td>\n",
       "      <td>4</td>\n",
       "    </tr>\n",
       "    <tr>\n",
       "      <th>3</th>\n",
       "      <td>Angola</td>\n",
       "      <td>33,000</td>\n",
       "      <td>28,813,463</td>\n",
       "      <td>12</td>\n",
       "    </tr>\n",
       "    <tr>\n",
       "      <th>4</th>\n",
       "      <td>Antigua and Barbuda</td>\n",
       "      <td>755</td>\n",
       "      <td>100,963</td>\n",
       "      <td>75</td>\n",
       "    </tr>\n",
       "    <tr>\n",
       "      <th>5</th>\n",
       "      <td>Argentina</td>\n",
       "      <td>75,000</td>\n",
       "      <td>43,847,430</td>\n",
       "      <td>18</td>\n",
       "    </tr>\n",
       "    <tr>\n",
       "      <th>6</th>\n",
       "      <td>Armenia</td>\n",
       "      <td>5,600</td>\n",
       "      <td>2,924,816</td>\n",
       "      <td>17</td>\n",
       "    </tr>\n",
       "  </tbody>\n",
       "</table>\n",
       "</div>"
      ],
      "text/plain": [
       "               Country     num         pop prev\n",
       "0          Afghanistan  13,000  34,656,032    4\n",
       "3               Angola  33,000  28,813,463   12\n",
       "4  Antigua and Barbuda     755     100,963   75\n",
       "5            Argentina  75,000  43,847,430   18\n",
       "6              Armenia   5,600   2,924,816   17"
      ]
     },
     "execution_count": 92,
     "metadata": {},
     "output_type": "execute_result"
    }
   ],
   "source": [
    "#the new data after changing the names of columns\n",
    "\n",
    "data.head()"
   ]
  },
  {
   "cell_type": "code",
   "execution_count": 93,
   "metadata": {},
   "outputs": [],
   "source": [
    "#converting from comma separated numbers to numbers without commas\n",
    "\n",
    "for i in range(0,118):\n",
    "    data['num'].iloc[i]=float(data['num'].iloc[i].replace(',',''))\n",
    "    data['pop'].iloc[i]=float(data['pop'].iloc[i].replace(',',''))"
   ]
  },
  {
   "cell_type": "code",
   "execution_count": null,
   "metadata": {},
   "outputs": [],
   "source": []
  },
  {
   "cell_type": "code",
   "execution_count": null,
   "metadata": {},
   "outputs": [],
   "source": []
  },
  {
   "cell_type": "code",
   "execution_count": 94,
   "metadata": {},
   "outputs": [],
   "source": [
    "#converting to numeric\n",
    "\n",
    "data[\"num\"] = data[\"num\"].apply(pd.to_numeric, errors='coerce').astype('float64')\n",
    "data[\"pop\"] = data[\"pop\"].apply(pd.to_numeric, errors='coerce').astype('float64')\n",
    "data[\"prev\"] = data[\"prev\"].apply(pd.to_numeric, errors='coerce').astype('float64')"
   ]
  },
  {
   "cell_type": "code",
   "execution_count": 95,
   "metadata": {},
   "outputs": [
    {
     "name": "stdout",
     "output_type": "stream",
     "text": [
      "<class 'pandas.core.frame.DataFrame'>\n",
      "Int64Index: 118 entries, 0 to 175\n",
      "Data columns (total 4 columns):\n",
      "Country    118 non-null object\n",
      "num        118 non-null float64\n",
      "pop        118 non-null float64\n",
      "prev       118 non-null float64\n",
      "dtypes: float64(3), object(1)\n",
      "memory usage: 4.6+ KB\n"
     ]
    }
   ],
   "source": [
    "data.info()"
   ]
  },
  {
   "cell_type": "code",
   "execution_count": 96,
   "metadata": {},
   "outputs": [
    {
     "data": {
      "text/html": [
       "<div>\n",
       "<style scoped>\n",
       "    .dataframe tbody tr th:only-of-type {\n",
       "        vertical-align: middle;\n",
       "    }\n",
       "\n",
       "    .dataframe tbody tr th {\n",
       "        vertical-align: top;\n",
       "    }\n",
       "\n",
       "    .dataframe thead th {\n",
       "        text-align: right;\n",
       "    }\n",
       "</style>\n",
       "<table border=\"1\" class=\"dataframe\">\n",
       "  <thead>\n",
       "    <tr style=\"text-align: right;\">\n",
       "      <th></th>\n",
       "      <th>Country</th>\n",
       "      <th>num</th>\n",
       "      <th>pop</th>\n",
       "      <th>prev</th>\n",
       "    </tr>\n",
       "  </thead>\n",
       "  <tbody>\n",
       "    <tr>\n",
       "      <th>0</th>\n",
       "      <td>Afghanistan</td>\n",
       "      <td>13000.0</td>\n",
       "      <td>34656032.0</td>\n",
       "      <td>4.0</td>\n",
       "    </tr>\n",
       "    <tr>\n",
       "      <th>3</th>\n",
       "      <td>Angola</td>\n",
       "      <td>33000.0</td>\n",
       "      <td>28813463.0</td>\n",
       "      <td>12.0</td>\n",
       "    </tr>\n",
       "    <tr>\n",
       "      <th>4</th>\n",
       "      <td>Antigua and Barbuda</td>\n",
       "      <td>755.0</td>\n",
       "      <td>100963.0</td>\n",
       "      <td>75.0</td>\n",
       "    </tr>\n",
       "    <tr>\n",
       "      <th>5</th>\n",
       "      <td>Argentina</td>\n",
       "      <td>75000.0</td>\n",
       "      <td>43847430.0</td>\n",
       "      <td>18.0</td>\n",
       "    </tr>\n",
       "    <tr>\n",
       "      <th>6</th>\n",
       "      <td>Armenia</td>\n",
       "      <td>5600.0</td>\n",
       "      <td>2924816.0</td>\n",
       "      <td>17.0</td>\n",
       "    </tr>\n",
       "  </tbody>\n",
       "</table>\n",
       "</div>"
      ],
      "text/plain": [
       "               Country      num         pop  prev\n",
       "0          Afghanistan  13000.0  34656032.0   4.0\n",
       "3               Angola  33000.0  28813463.0  12.0\n",
       "4  Antigua and Barbuda    755.0    100963.0  75.0\n",
       "5            Argentina  75000.0  43847430.0  18.0\n",
       "6              Armenia   5600.0   2924816.0  17.0"
      ]
     },
     "execution_count": 96,
     "metadata": {},
     "output_type": "execute_result"
    }
   ],
   "source": [
    "data.head()"
   ]
  },
  {
   "cell_type": "code",
   "execution_count": 97,
   "metadata": {},
   "outputs": [
    {
     "data": {
      "text/html": [
       "<div>\n",
       "<style scoped>\n",
       "    .dataframe tbody tr th:only-of-type {\n",
       "        vertical-align: middle;\n",
       "    }\n",
       "\n",
       "    .dataframe tbody tr th {\n",
       "        vertical-align: top;\n",
       "    }\n",
       "\n",
       "    .dataframe thead th {\n",
       "        text-align: right;\n",
       "    }\n",
       "</style>\n",
       "<table border=\"1\" class=\"dataframe\">\n",
       "  <thead>\n",
       "    <tr style=\"text-align: right;\">\n",
       "      <th></th>\n",
       "      <th>num</th>\n",
       "      <th>pop</th>\n",
       "      <th>prev</th>\n",
       "    </tr>\n",
       "  </thead>\n",
       "  <tbody>\n",
       "    <tr>\n",
       "      <th>num</th>\n",
       "      <td>1.000000</td>\n",
       "      <td>0.287123</td>\n",
       "      <td>0.684805</td>\n",
       "    </tr>\n",
       "    <tr>\n",
       "      <th>pop</th>\n",
       "      <td>0.287123</td>\n",
       "      <td>1.000000</td>\n",
       "      <td>-0.050755</td>\n",
       "    </tr>\n",
       "    <tr>\n",
       "      <th>prev</th>\n",
       "      <td>0.684805</td>\n",
       "      <td>-0.050755</td>\n",
       "      <td>1.000000</td>\n",
       "    </tr>\n",
       "  </tbody>\n",
       "</table>\n",
       "</div>"
      ],
      "text/plain": [
       "           num       pop      prev\n",
       "num   1.000000  0.287123  0.684805\n",
       "pop   0.287123  1.000000 -0.050755\n",
       "prev  0.684805 -0.050755  1.000000"
      ]
     },
     "execution_count": 97,
     "metadata": {},
     "output_type": "execute_result"
    }
   ],
   "source": [
    "data.corr()"
   ]
  },
  {
   "cell_type": "code",
   "execution_count": null,
   "metadata": {},
   "outputs": [],
   "source": []
  },
  {
   "cell_type": "code",
   "execution_count": 98,
   "metadata": {},
   "outputs": [],
   "source": [
    "#data visualization"
   ]
  },
  {
   "cell_type": "code",
   "execution_count": 99,
   "metadata": {},
   "outputs": [
    {
     "data": {
      "image/png": "[encoded data removed]",
      "text/plain": [
       "<Figure size 432x288 with 1 Axes>"
      ]
     },
     "metadata": {
      "needs_background": "light"
     },
     "output_type": "display_data"
    }
   ],
   "source": [
    "#bar chart\n",
    "for i in range(0,5):\n",
    "    \n",
    "    left = [2,4 ,6,8, 10]\n",
    "\n",
    "    height = [data['prev'].iloc[i],data['prev'].iloc[i+1],data['prev'].iloc[i+2],data['prev'].iloc[i+3],data['prev'].iloc[i+4]]\n",
    "    \n",
    "    tick_label =[data['Country'].iloc[i],data['Country'].iloc[i+1],data['Country'].iloc[i+2],data['Country'].iloc[i+3],data['Country'].iloc[i+4]] \n",
    "    \n",
    "    plt.xlabel('NATIONS') \n",
    " \n",
    "    plt.ylabel('number of sex workers per 10000 population') \n",
    " \n",
    "    plt.title('sex workers') \n",
    "\n",
    "    plt.bar(left, height, tick_label = tick_label, \n",
    "        width = 0.8, color = ['b','r','g']) "
   ]
  },
  {
   "cell_type": "code",
   "execution_count": 100,
   "metadata": {},
   "outputs": [
    {
     "data": {
      "image/png": "[encoded data removed]",
      "text/plain": [
       "<Figure size 432x288 with 1 Axes>"
      ]
     },
     "metadata": {
      "needs_background": "light"
     },
     "output_type": "display_data"
    }
   ],
   "source": [
    "#bar chart\n",
    "for i in range(5,10):\n",
    "    \n",
    "    left = [2,4 ,6,8, 10]\n",
    "\n",
    "    height = [data['prev'].iloc[i],data['prev'].iloc[i+1],data['prev'].iloc[i+2],data['prev'].iloc[i+3],data['prev'].iloc[i+4]]\n",
    "    \n",
    "    tick_label =[data['Country'].iloc[i],data['Country'].iloc[i+1],data['Country'].iloc[i+2],data['Country'].iloc[i+3],data['Country'].iloc[i+4]] \n",
    "    \n",
    "    plt.xlabel('NATIONS') \n",
    " \n",
    "    plt.ylabel('number of sex workers per 10000 population') \n",
    " \n",
    "    plt.title('sex workers') \n",
    "\n",
    "    plt.bar(left, height, tick_label = tick_label, \n",
    "        width = 0.8, color = ['b','r','g']) "
   ]
  },
  {
   "cell_type": "code",
   "execution_count": 101,
   "metadata": {},
   "outputs": [
    {
     "data": {
      "image/png": "[encoded data removed]",
      "text/plain": [
       "<Figure size 432x288 with 1 Axes>"
      ]
     },
     "metadata": {
      "needs_background": "light"
     },
     "output_type": "display_data"
    }
   ],
   "source": [
    "#bar chart\n",
    "for i in range(10,15):\n",
    "    \n",
    "    left = [2,4 ,6,8, 10]\n",
    "\n",
    "    height = [data['prev'].iloc[i],data['prev'].iloc[i+1],data['prev'].iloc[i+2],data['prev'].iloc[i+3],data['prev'].iloc[i+4]]\n",
    "    \n",
    "    tick_label =[data['Country'].iloc[i],data['Country'].iloc[i+1],data['Country'].iloc[i+2],data['Country'].iloc[i+3],data['Country'].iloc[i+4]] \n",
    "    \n",
    "    plt.xlabel('NATIONS') \n",
    "    plt.title('sex workers')\n",
    " \n",
    "    plt.ylabel('number of sex workers per 10000 population') \n",
    "  \n",
    "\n",
    "    plt.bar(left, height, tick_label = tick_label, \n",
    "        width = 0.8, color = ['b','r','g']) "
   ]
  },
  {
   "cell_type": "code",
   "execution_count": 102,
   "metadata": {},
   "outputs": [
    {
     "data": {
      "image/png": "[encoded data removed]",
      "text/plain": [
       "<Figure size 432x288 with 1 Axes>"
      ]
     },
     "metadata": {
      "needs_background": "light"
     },
     "output_type": "display_data"
    }
   ],
   "source": [
    "#bar chart\n",
    "for i in range(45,50):\n",
    "    \n",
    "    left = [2,4 ,6,8, 10]\n",
    "\n",
    "    height = [data['prev'].iloc[i],data['prev'].iloc[i+1],data['prev'].iloc[i+2],data['prev'].iloc[i+3],data['prev'].iloc[i+4]]\n",
    "    \n",
    "    tick_label =[data['Country'].iloc[i],data['Country'].iloc[i+1],data['Country'].iloc[i+2],data['Country'].iloc[i+3],data['Country'].iloc[i+4]] \n",
    "    \n",
    "    plt.xlabel('NATIONS') \n",
    " \n",
    "    plt.ylabel('number of sex workers per 10000 population') \n",
    " \n",
    "    plt.title('sex workers') \n",
    "\n",
    "    plt.bar(left, height, tick_label = tick_label, \n",
    "        width = 0.8, color = ['b','r','g']) "
   ]
  },
  {
   "cell_type": "code",
   "execution_count": 103,
   "metadata": {},
   "outputs": [
    {
     "data": {
      "text/plain": [
       "Text(0, 0.5, 'number of sex workers per 10000 population')"
      ]
     },
     "execution_count": 103,
     "metadata": {},
     "output_type": "execute_result"
    },
    {
     "data": {
      "image/png": "[encoded data removed]",
      "text/plain": [
       "<Figure size 432x288 with 1 Axes>"
      ]
     },
     "metadata": {
      "needs_background": "light"
     },
     "output_type": "display_data"
    }
   ],
   "source": [
    "data['prev'].plot(kind='bar')\n",
    "plt.xlabel('NATIONS')\n",
    "plt.title('sex workers')\n",
    "plt.ylabel('number of sex workers per 10000 population') \n",
    "  "
   ]
  },
  {
   "cell_type": "code",
   "execution_count": 104,
   "metadata": {},
   "outputs": [
    {
     "data": {
      "text/plain": [
       "<matplotlib.collections.PathCollection at 0xa9c380d630>"
      ]
     },
     "execution_count": 104,
     "metadata": {},
     "output_type": "execute_result"
    },
    {
     "data": {
      "image/png": "[encoded data removed]",
      "text/plain": [
       "<Figure size 432x288 with 1 Axes>"
      ]
     },
     "metadata": {
      "needs_background": "light"
     },
     "output_type": "display_data"
    }
   ],
   "source": [
    "#scatter plot\n",
    "\n",
    "plt.scatter(data['pop'],data['num'],color='red')"
   ]
  },
  {
   "cell_type": "code",
   "execution_count": 105,
   "metadata": {},
   "outputs": [
    {
     "data": {
      "text/plain": [
       "<seaborn.axisgrid.PairGrid at 0xa9c3843fd0>"
      ]
     },
     "execution_count": 105,
     "metadata": {},
     "output_type": "execute_result"
    },
    {
     "data": {
      "image/png": "[encoded data removed]",
      "text/plain": [
       "<Figure size 540x540 with 12 Axes>"
      ]
     },
     "metadata": {
      "needs_background": "light"
     },
     "output_type": "display_data"
    }
   ],
   "source": [
    "#seaborn pairplot\n",
    "\n",
    "sns.pairplot(data)"
   ]
  },
  {
   "cell_type": "code",
   "execution_count": 106,
   "metadata": {},
   "outputs": [
    {
     "data": {
      "text/plain": [
       "<matplotlib.axes._subplots.AxesSubplot at 0xa9c3822c88>"
      ]
     },
     "execution_count": 106,
     "metadata": {},
     "output_type": "execute_result"
    },
    {
     "data": {
      "image/png": "[encoded data removed]",
      "text/plain": [
       "<Figure size 432x288 with 1 Axes>"
      ]
     },
     "metadata": {
      "needs_background": "light"
     },
     "output_type": "display_data"
    }
   ],
   "source": [
    "#seaborn distplot\n",
    "\n",
    "sns.distplot(data['num'])"
   ]
  },
  {
   "cell_type": "code",
   "execution_count": 107,
   "metadata": {},
   "outputs": [
    {
     "data": {
      "text/plain": [
       "<matplotlib.axes._subplots.AxesSubplot at 0xa9c3f42dd8>"
      ]
     },
     "execution_count": 107,
     "metadata": {},
     "output_type": "execute_result"
    },
    {
     "data": {
      "image/png": "[encoded data removed]",
      "text/plain": [
       "<Figure size 432x288 with 1 Axes>"
      ]
     },
     "metadata": {
      "needs_background": "light"
     },
     "output_type": "display_data"
    }
   ],
   "source": [
    "#seaborn distplot\n",
    "\n",
    "sns.distplot(data['pop'])"
   ]
  },
  {
   "cell_type": "code",
   "execution_count": 108,
   "metadata": {},
   "outputs": [
    {
     "data": {
      "text/plain": [
       "<matplotlib.axes._subplots.AxesSubplot at 0xa9c34427f0>"
      ]
     },
     "execution_count": 108,
     "metadata": {},
     "output_type": "execute_result"
    },
    {
     "data": {
      "image/png": "[encoded data removed]",
      "text/plain": [
       "<Figure size 432x288 with 1 Axes>"
      ]
     },
     "metadata": {
      "needs_background": "light"
     },
     "output_type": "display_data"
    }
   ],
   "source": [
    "#seaborn distplot\n",
    "\n",
    "sns.distplot(data['prev'])"
   ]
  },
  {
   "cell_type": "code",
   "execution_count": null,
   "metadata": {},
   "outputs": [],
   "source": []
  },
  {
   "cell_type": "code",
   "execution_count": null,
   "metadata": {},
   "outputs": [],
   "source": []
  },
  {
   "cell_type": "code",
   "execution_count": null,
   "metadata": {},
   "outputs": [],
   "source": []
  },
  {
   "cell_type": "code",
   "execution_count": null,
   "metadata": {},
   "outputs": [],
   "source": []
  }
 ],
 "metadata": {
  "kernelspec": {
   "display_name": "Python 3",
   "language": "python",
   "name": "python3"
  },
  "language_info": {
   "codemirror_mode": {
    "name": "ipython",
    "version": 3
   },
   "file_extension": ".py",
   "mimetype": "text/x-python",
   "name": "python",
   "nbconvert_exporter": "python",
   "pygments_lexer": "ipython3",
   "version": "3.7.3"
  }
 },
 "nbformat": 4,
 "nbformat_minor": 2
}
