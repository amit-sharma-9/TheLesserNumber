{
 "cells": [
  {
   "cell_type": "code",
   "execution_count": 99,
   "metadata": {},
   "outputs": [],
   "source": [
    "import pandas as pd\n",
    "import numpy as np\n",
    "import seaborn as sns\n",
    "from sklearn import metrics\n",
    "from sklearn.metrics import r2_score\n",
    "\n",
    "\n",
    "from sklearn.model_selection import train_test_split\n",
    "import matplotlib.pyplot as plt\n",
    "%matplotlib inline"
   ]
  },
  {
   "cell_type": "code",
   "execution_count": 100,
   "metadata": {
    "scrolled": true
   },
   "outputs": [
    {
     "data": {
      "text/html": [
       "<div>\n",
       "<style scoped>\n",
       "    .dataframe tbody tr th:only-of-type {\n",
       "        vertical-align: middle;\n",
       "    }\n",
       "\n",
       "    .dataframe tbody tr th {\n",
       "        vertical-align: top;\n",
       "    }\n",
       "\n",
       "    .dataframe thead th {\n",
       "        text-align: right;\n",
       "    }\n",
       "</style>\n",
       "<table border=\"1\" class=\"dataframe\">\n",
       "  <thead>\n",
       "    <tr style=\"text-align: right;\">\n",
       "      <th></th>\n",
       "      <th>Region</th>\n",
       "      <th>Country</th>\n",
       "      <th>Percent</th>\n",
       "      <th>Pop</th>\n",
       "      <th>Hindu</th>\n",
       "    </tr>\n",
       "  </thead>\n",
       "  <tbody>\n",
       "    <tr>\n",
       "      <th>0</th>\n",
       "      <td>South Asia</td>\n",
       "      <td>Afghanistan Afghanistan</td>\n",
       "      <td>0.4%[11][12]</td>\n",
       "      <td>31889923</td>\n",
       "      <td>4000</td>\n",
       "    </tr>\n",
       "    <tr>\n",
       "      <th>1</th>\n",
       "      <td>Western Europe</td>\n",
       "      <td>Andorra Andorra</td>\n",
       "      <td>0.4%[13]</td>\n",
       "      <td>85000</td>\n",
       "      <td>342</td>\n",
       "    </tr>\n",
       "    <tr>\n",
       "      <th>2</th>\n",
       "      <td>Caribbean</td>\n",
       "      <td>Anguilla Anguilla</td>\n",
       "      <td>0.43%[14]</td>\n",
       "      <td>13452</td>\n",
       "      <td>58</td>\n",
       "    </tr>\n",
       "    <tr>\n",
       "      <th>3</th>\n",
       "      <td>Caribbean</td>\n",
       "      <td>Antigua and Barbuda Antigua and Barbuda</td>\n",
       "      <td>0.4%[15]</td>\n",
       "      <td>81799</td>\n",
       "      <td>379</td>\n",
       "    </tr>\n",
       "    <tr>\n",
       "      <th>4</th>\n",
       "      <td>South America</td>\n",
       "      <td>Argentina Argentina</td>\n",
       "      <td>0.01%[16]</td>\n",
       "      <td>40301927</td>\n",
       "      <td>4030</td>\n",
       "    </tr>\n",
       "  </tbody>\n",
       "</table>\n",
       "</div>"
      ],
      "text/plain": [
       "           Region                                   Country         Percent  \\\n",
       "0      South Asia                   Afghanistan Afghanistan   0.4%[11][12]    \n",
       "1  Western Europe                           Andorra Andorra       0.4%[13]    \n",
       "2       Caribbean                         Anguilla Anguilla      0.43%[14]    \n",
       "3       Caribbean   Antigua and Barbuda Antigua and Barbuda       0.4%[15]    \n",
       "4   South America                       Argentina Argentina      0.01%[16]    \n",
       "\n",
       "        Pop Hindu  \n",
       "0  31889923  4000  \n",
       "1     85000   342  \n",
       "2     13452    58  \n",
       "3     81799   379  \n",
       "4  40301927  4030  "
      ]
     },
     "execution_count": 100,
     "metadata": {},
     "output_type": "execute_result"
    }
   ],
   "source": [
    "data=pd.read_csv('ReligionHindu_Cleaned.csv')\n",
    "data.head(5)"
   ]
  },
  {
   "cell_type": "code",
   "execution_count": 101,
   "metadata": {},
   "outputs": [],
   "source": [
    "#deleting unwanted entries\n",
    "\n",
    "data=data.dropna()"
   ]
  },
  {
   "cell_type": "code",
   "execution_count": 102,
   "metadata": {},
   "outputs": [
    {
     "name": "stdout",
     "output_type": "stream",
     "text": [
      "<class 'pandas.core.frame.DataFrame'>\n",
      "Int64Index: 112 entries, 0 to 111\n",
      "Data columns (total 5 columns):\n",
      "Region      112 non-null object\n",
      "Country     112 non-null object\n",
      "Percent     112 non-null object\n",
      "Pop         112 non-null object\n",
      "Hindu       112 non-null object\n",
      "dtypes: object(5)\n",
      "memory usage: 5.2+ KB\n"
     ]
    }
   ],
   "source": [
    "data.info()"
   ]
  },
  {
   "cell_type": "code",
   "execution_count": 103,
   "metadata": {},
   "outputs": [],
   "source": [
    "#converting the total population and hindu population data to numeric\n",
    "\n",
    "data[\"Pop\"] = data[\"Pop\"].apply(pd.to_numeric, errors='coerce').astype('float64')"
   ]
  },
  {
   "cell_type": "code",
   "execution_count": 104,
   "metadata": {},
   "outputs": [],
   "source": [
    "data[\"Hindu\"] = data[\"Hindu\"].apply(pd.to_numeric, errors='coerce').astype('float64')"
   ]
  },
  {
   "cell_type": "code",
   "execution_count": 105,
   "metadata": {},
   "outputs": [
    {
     "name": "stdout",
     "output_type": "stream",
     "text": [
      "<class 'pandas.core.frame.DataFrame'>\n",
      "Int64Index: 112 entries, 0 to 111\n",
      "Data columns (total 5 columns):\n",
      "Region      112 non-null object\n",
      "Country     112 non-null object\n",
      "Percent     112 non-null object\n",
      "Pop         109 non-null float64\n",
      "Hindu       99 non-null float64\n",
      "dtypes: float64(2), object(3)\n",
      "memory usage: 5.2+ KB\n"
     ]
    }
   ],
   "source": [
    "data.info()"
   ]
  },
  {
   "cell_type": "code",
   "execution_count": 121,
   "metadata": {},
   "outputs": [],
   "source": [
    "#deleting unwanted data\n",
    "data=data.dropna()"
   ]
  },
  {
   "cell_type": "code",
   "execution_count": null,
   "metadata": {},
   "outputs": [],
   "source": []
  },
  {
   "cell_type": "code",
   "execution_count": 122,
   "metadata": {},
   "outputs": [
    {
     "name": "stdout",
     "output_type": "stream",
     "text": [
      "<class 'pandas.core.frame.DataFrame'>\n",
      "Int64Index: 97 entries, 0 to 111\n",
      "Data columns (total 5 columns):\n",
      "Region      97 non-null object\n",
      "Country     97 non-null object\n",
      "Percent     97 non-null float64\n",
      "Pop         97 non-null float64\n",
      "Hindu       97 non-null float64\n",
      "dtypes: float64(3), object(2)\n",
      "memory usage: 4.5+ KB\n"
     ]
    }
   ],
   "source": [
    "#data after cleaning\n",
    "\n",
    "data.info()"
   ]
  },
  {
   "cell_type": "code",
   "execution_count": 123,
   "metadata": {},
   "outputs": [
    {
     "data": {
      "text/html": [
       "<div>\n",
       "<style scoped>\n",
       "    .dataframe tbody tr th:only-of-type {\n",
       "        vertical-align: middle;\n",
       "    }\n",
       "\n",
       "    .dataframe tbody tr th {\n",
       "        vertical-align: top;\n",
       "    }\n",
       "\n",
       "    .dataframe thead th {\n",
       "        text-align: right;\n",
       "    }\n",
       "</style>\n",
       "<table border=\"1\" class=\"dataframe\">\n",
       "  <thead>\n",
       "    <tr style=\"text-align: right;\">\n",
       "      <th></th>\n",
       "      <th>Region</th>\n",
       "      <th>Country</th>\n",
       "      <th>Percent</th>\n",
       "      <th>Pop</th>\n",
       "      <th>Hindu</th>\n",
       "    </tr>\n",
       "  </thead>\n",
       "  <tbody>\n",
       "    <tr>\n",
       "      <th>0</th>\n",
       "      <td>South Asia</td>\n",
       "      <td>Afghanistan Afghanistan</td>\n",
       "      <td>0.012543</td>\n",
       "      <td>31889923.0</td>\n",
       "      <td>4000.0</td>\n",
       "    </tr>\n",
       "    <tr>\n",
       "      <th>1</th>\n",
       "      <td>Western Europe</td>\n",
       "      <td>Andorra Andorra</td>\n",
       "      <td>0.402353</td>\n",
       "      <td>85000.0</td>\n",
       "      <td>342.0</td>\n",
       "    </tr>\n",
       "    <tr>\n",
       "      <th>2</th>\n",
       "      <td>Caribbean</td>\n",
       "      <td>Anguilla Anguilla</td>\n",
       "      <td>0.431163</td>\n",
       "      <td>13452.0</td>\n",
       "      <td>58.0</td>\n",
       "    </tr>\n",
       "    <tr>\n",
       "      <th>3</th>\n",
       "      <td>Caribbean</td>\n",
       "      <td>Antigua and Barbuda Antigua and Barbuda</td>\n",
       "      <td>0.463331</td>\n",
       "      <td>81799.0</td>\n",
       "      <td>379.0</td>\n",
       "    </tr>\n",
       "    <tr>\n",
       "      <th>4</th>\n",
       "      <td>South America</td>\n",
       "      <td>Argentina Argentina</td>\n",
       "      <td>0.010000</td>\n",
       "      <td>40301927.0</td>\n",
       "      <td>4030.0</td>\n",
       "    </tr>\n",
       "  </tbody>\n",
       "</table>\n",
       "</div>"
      ],
      "text/plain": [
       "           Region                                   Country    Percent  \\\n",
       "0      South Asia                   Afghanistan Afghanistan   0.012543   \n",
       "1  Western Europe                           Andorra Andorra   0.402353   \n",
       "2       Caribbean                         Anguilla Anguilla   0.431163   \n",
       "3       Caribbean   Antigua and Barbuda Antigua and Barbuda   0.463331   \n",
       "4   South America                       Argentina Argentina   0.010000   \n",
       "\n",
       "          Pop   Hindu  \n",
       "0  31889923.0  4000.0  \n",
       "1     85000.0   342.0  \n",
       "2     13452.0    58.0  \n",
       "3     81799.0   379.0  \n",
       "4  40301927.0  4030.0  "
      ]
     },
     "execution_count": 123,
     "metadata": {},
     "output_type": "execute_result"
    }
   ],
   "source": [
    "data.head()"
   ]
  },
  {
   "cell_type": "code",
   "execution_count": 124,
   "metadata": {},
   "outputs": [
    {
     "data": {
      "text/plain": [
       "97"
      ]
     },
     "execution_count": 124,
     "metadata": {},
     "output_type": "execute_result"
    }
   ],
   "source": [
    "len(data)"
   ]
  },
  {
   "cell_type": "code",
   "execution_count": 125,
   "metadata": {},
   "outputs": [],
   "source": [
    "#finding the percentage of hindu in total population"
   ]
  },
  {
   "cell_type": "code",
   "execution_count": 126,
   "metadata": {},
   "outputs": [],
   "source": [
    "for i in range(0,97):\n",
    "    pop=data['Pop'].iloc[i]\n",
    "    hind=data['Hindu'].iloc[i]\n",
    "    val=(hind/pop)*100\n",
    "    data['Percent'].iloc[i]=val"
   ]
  },
  {
   "cell_type": "code",
   "execution_count": 127,
   "metadata": {},
   "outputs": [],
   "source": [
    "#forced conversion to numeric\n",
    "\n",
    "data[\"Percent\"] = data[\"Percent\"].apply(pd.to_numeric, errors='coerce').astype('float64')"
   ]
  },
  {
   "cell_type": "code",
   "execution_count": 128,
   "metadata": {},
   "outputs": [
    {
     "name": "stdout",
     "output_type": "stream",
     "text": [
      "<class 'pandas.core.frame.DataFrame'>\n",
      "Int64Index: 97 entries, 0 to 111\n",
      "Data columns (total 5 columns):\n",
      "Region      97 non-null object\n",
      "Country     97 non-null object\n",
      "Percent     97 non-null float64\n",
      "Pop         97 non-null float64\n",
      "Hindu       97 non-null float64\n",
      "dtypes: float64(3), object(2)\n",
      "memory usage: 4.5+ KB\n"
     ]
    }
   ],
   "source": [
    "data.info()"
   ]
  },
  {
   "cell_type": "code",
   "execution_count": 129,
   "metadata": {},
   "outputs": [
    {
     "data": {
      "text/html": [
       "<div>\n",
       "<style scoped>\n",
       "    .dataframe tbody tr th:only-of-type {\n",
       "        vertical-align: middle;\n",
       "    }\n",
       "\n",
       "    .dataframe tbody tr th {\n",
       "        vertical-align: top;\n",
       "    }\n",
       "\n",
       "    .dataframe thead th {\n",
       "        text-align: right;\n",
       "    }\n",
       "</style>\n",
       "<table border=\"1\" class=\"dataframe\">\n",
       "  <thead>\n",
       "    <tr style=\"text-align: right;\">\n",
       "      <th></th>\n",
       "      <th>Region</th>\n",
       "      <th>Country</th>\n",
       "      <th>Percent</th>\n",
       "      <th>Pop</th>\n",
       "      <th>Hindu</th>\n",
       "    </tr>\n",
       "  </thead>\n",
       "  <tbody>\n",
       "    <tr>\n",
       "      <th>0</th>\n",
       "      <td>South Asia</td>\n",
       "      <td>Afghanistan Afghanistan</td>\n",
       "      <td>0.012543</td>\n",
       "      <td>31889923.0</td>\n",
       "      <td>4000.0</td>\n",
       "    </tr>\n",
       "    <tr>\n",
       "      <th>1</th>\n",
       "      <td>Western Europe</td>\n",
       "      <td>Andorra Andorra</td>\n",
       "      <td>0.402353</td>\n",
       "      <td>85000.0</td>\n",
       "      <td>342.0</td>\n",
       "    </tr>\n",
       "    <tr>\n",
       "      <th>2</th>\n",
       "      <td>Caribbean</td>\n",
       "      <td>Anguilla Anguilla</td>\n",
       "      <td>0.431163</td>\n",
       "      <td>13452.0</td>\n",
       "      <td>58.0</td>\n",
       "    </tr>\n",
       "    <tr>\n",
       "      <th>3</th>\n",
       "      <td>Caribbean</td>\n",
       "      <td>Antigua and Barbuda Antigua and Barbuda</td>\n",
       "      <td>0.463331</td>\n",
       "      <td>81799.0</td>\n",
       "      <td>379.0</td>\n",
       "    </tr>\n",
       "    <tr>\n",
       "      <th>4</th>\n",
       "      <td>South America</td>\n",
       "      <td>Argentina Argentina</td>\n",
       "      <td>0.010000</td>\n",
       "      <td>40301927.0</td>\n",
       "      <td>4030.0</td>\n",
       "    </tr>\n",
       "  </tbody>\n",
       "</table>\n",
       "</div>"
      ],
      "text/plain": [
       "           Region                                   Country    Percent  \\\n",
       "0      South Asia                   Afghanistan Afghanistan   0.012543   \n",
       "1  Western Europe                           Andorra Andorra   0.402353   \n",
       "2       Caribbean                         Anguilla Anguilla   0.431163   \n",
       "3       Caribbean   Antigua and Barbuda Antigua and Barbuda   0.463331   \n",
       "4   South America                       Argentina Argentina   0.010000   \n",
       "\n",
       "          Pop   Hindu  \n",
       "0  31889923.0  4000.0  \n",
       "1     85000.0   342.0  \n",
       "2     13452.0    58.0  \n",
       "3     81799.0   379.0  \n",
       "4  40301927.0  4030.0  "
      ]
     },
     "execution_count": 129,
     "metadata": {},
     "output_type": "execute_result"
    }
   ],
   "source": [
    "data.head()"
   ]
  },
  {
   "cell_type": "code",
   "execution_count": 130,
   "metadata": {},
   "outputs": [],
   "source": [
    "#finally a notebook is created where all numeric values are in float data types ,any furthur user can work on it"
   ]
  },
  {
   "cell_type": "code",
   "execution_count": null,
   "metadata": {},
   "outputs": [],
   "source": []
  }
 ],
 "metadata": {
  "kernelspec": {
   "display_name": "Python 3",
   "language": "python",
   "name": "python3"
  },
  "language_info": {
   "codemirror_mode": {
    "name": "ipython",
    "version": 3
   },
   "file_extension": ".py",
   "mimetype": "text/x-python",
   "name": "python",
   "nbconvert_exporter": "python",
   "pygments_lexer": "ipython3",
   "version": "3.7.3"
  }
 },
 "nbformat": 4,
 "nbformat_minor": 2
}
