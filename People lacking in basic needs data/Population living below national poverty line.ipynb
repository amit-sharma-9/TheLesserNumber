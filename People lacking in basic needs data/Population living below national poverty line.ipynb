{
 "cells": [
  {
   "cell_type": "code",
   "execution_count": 10,
   "metadata": {},
   "outputs": [],
   "source": [
    "import pandas as pd\n",
    "import numpy as np\n",
    "import seaborn as sns\n",
    "from sklearn import metrics\n",
    "from sklearn.metrics import r2_score\n",
    "\n",
    "\n",
    "from sklearn.model_selection import train_test_split\n",
    "import matplotlib.pyplot as plt\n",
    "%matplotlib inline"
   ]
  },
  {
   "cell_type": "code",
   "execution_count": 33,
   "metadata": {},
   "outputs": [
    {
     "data": {
      "text/html": [
       "<div>\n",
       "<style scoped>\n",
       "    .dataframe tbody tr th:only-of-type {\n",
       "        vertical-align: middle;\n",
       "    }\n",
       "\n",
       "    .dataframe tbody tr th {\n",
       "        vertical-align: top;\n",
       "    }\n",
       "\n",
       "    .dataframe thead th {\n",
       "        text-align: right;\n",
       "    }\n",
       "</style>\n",
       "<table border=\"1\" class=\"dataframe\">\n",
       "  <thead>\n",
       "    <tr style=\"text-align: right;\">\n",
       "      <th></th>\n",
       "      <th>Country</th>\n",
       "      <th>WorldBank[7]</th>\n",
       "      <th>Year</th>\n",
       "      <th>CIA[8]</th>\n",
       "      <th>Year.1</th>\n",
       "      <th>Other</th>\n",
       "      <th>Year.2</th>\n",
       "      <th>Continent</th>\n",
       "    </tr>\n",
       "  </thead>\n",
       "  <tbody>\n",
       "    <tr>\n",
       "      <th>0</th>\n",
       "      <td>Afghanistan</td>\n",
       "      <td>54.5%</td>\n",
       "      <td>2016.0</td>\n",
       "      <td>54.5%</td>\n",
       "      <td>2017.0</td>\n",
       "      <td>NaN</td>\n",
       "      <td>NaN</td>\n",
       "      <td>Asia</td>\n",
       "    </tr>\n",
       "    <tr>\n",
       "      <th>1</th>\n",
       "      <td>Albania</td>\n",
       "      <td>14.3%</td>\n",
       "      <td>2012.0</td>\n",
       "      <td>14.3%</td>\n",
       "      <td>2012.0</td>\n",
       "      <td>NaN</td>\n",
       "      <td>NaN</td>\n",
       "      <td>Europe</td>\n",
       "    </tr>\n",
       "    <tr>\n",
       "      <th>2</th>\n",
       "      <td>Algeria</td>\n",
       "      <td>5.5%</td>\n",
       "      <td>2011.0</td>\n",
       "      <td>23.0%</td>\n",
       "      <td>2006.0</td>\n",
       "      <td>NaN</td>\n",
       "      <td>NaN</td>\n",
       "      <td>Africa</td>\n",
       "    </tr>\n",
       "    <tr>\n",
       "      <th>3</th>\n",
       "      <td>Andorra</td>\n",
       "      <td>NaN</td>\n",
       "      <td>NaN</td>\n",
       "      <td>NaN</td>\n",
       "      <td>NaN</td>\n",
       "      <td>NaN</td>\n",
       "      <td>NaN</td>\n",
       "      <td>Europe</td>\n",
       "    </tr>\n",
       "    <tr>\n",
       "      <th>4</th>\n",
       "      <td>Angola</td>\n",
       "      <td>36.6%</td>\n",
       "      <td>2008.0</td>\n",
       "      <td>36.6%</td>\n",
       "      <td>2008.0</td>\n",
       "      <td>NaN</td>\n",
       "      <td>NaN</td>\n",
       "      <td>Africa</td>\n",
       "    </tr>\n",
       "  </tbody>\n",
       "</table>\n",
       "</div>"
      ],
      "text/plain": [
       "       Country WorldBank[7]    Year CIA[8]  Year.1 Other Year.2 Continent\n",
       "0  Afghanistan        54.5%  2016.0  54.5%  2017.0   NaN    NaN      Asia\n",
       "1      Albania        14.3%  2012.0  14.3%  2012.0   NaN    NaN    Europe\n",
       "2      Algeria         5.5%  2011.0  23.0%  2006.0   NaN    NaN    Africa\n",
       "3      Andorra          NaN     NaN    NaN     NaN   NaN    NaN    Europe\n",
       "4       Angola        36.6%  2008.0  36.6%  2008.0   NaN    NaN    Africa"
      ]
     },
     "execution_count": 33,
     "metadata": {},
     "output_type": "execute_result"
    }
   ],
   "source": [
    "data=pd.read_csv('Population living below national poverty line_Cleaned.csv')\n",
    "data.head(5)"
   ]
  },
  {
   "cell_type": "code",
   "execution_count": 34,
   "metadata": {},
   "outputs": [],
   "source": [
    "#removing columns which wont be that vital\n",
    "\n",
    "data=data.drop('Other' ,axis=1)"
   ]
  },
  {
   "cell_type": "code",
   "execution_count": 35,
   "metadata": {},
   "outputs": [],
   "source": [
    "data=data.drop('Year.2', axis=1)"
   ]
  },
  {
   "cell_type": "code",
   "execution_count": 36,
   "metadata": {},
   "outputs": [
    {
     "data": {
      "text/html": [
       "<div>\n",
       "<style scoped>\n",
       "    .dataframe tbody tr th:only-of-type {\n",
       "        vertical-align: middle;\n",
       "    }\n",
       "\n",
       "    .dataframe tbody tr th {\n",
       "        vertical-align: top;\n",
       "    }\n",
       "\n",
       "    .dataframe thead th {\n",
       "        text-align: right;\n",
       "    }\n",
       "</style>\n",
       "<table border=\"1\" class=\"dataframe\">\n",
       "  <thead>\n",
       "    <tr style=\"text-align: right;\">\n",
       "      <th></th>\n",
       "      <th>Country</th>\n",
       "      <th>WorldBank[7]</th>\n",
       "      <th>Year</th>\n",
       "      <th>CIA[8]</th>\n",
       "      <th>Year.1</th>\n",
       "      <th>Continent</th>\n",
       "    </tr>\n",
       "  </thead>\n",
       "  <tbody>\n",
       "    <tr>\n",
       "      <th>0</th>\n",
       "      <td>Afghanistan</td>\n",
       "      <td>54.5%</td>\n",
       "      <td>2016.0</td>\n",
       "      <td>54.5%</td>\n",
       "      <td>2017.0</td>\n",
       "      <td>Asia</td>\n",
       "    </tr>\n",
       "    <tr>\n",
       "      <th>1</th>\n",
       "      <td>Albania</td>\n",
       "      <td>14.3%</td>\n",
       "      <td>2012.0</td>\n",
       "      <td>14.3%</td>\n",
       "      <td>2012.0</td>\n",
       "      <td>Europe</td>\n",
       "    </tr>\n",
       "    <tr>\n",
       "      <th>2</th>\n",
       "      <td>Algeria</td>\n",
       "      <td>5.5%</td>\n",
       "      <td>2011.0</td>\n",
       "      <td>23.0%</td>\n",
       "      <td>2006.0</td>\n",
       "      <td>Africa</td>\n",
       "    </tr>\n",
       "    <tr>\n",
       "      <th>3</th>\n",
       "      <td>Andorra</td>\n",
       "      <td>NaN</td>\n",
       "      <td>NaN</td>\n",
       "      <td>NaN</td>\n",
       "      <td>NaN</td>\n",
       "      <td>Europe</td>\n",
       "    </tr>\n",
       "    <tr>\n",
       "      <th>4</th>\n",
       "      <td>Angola</td>\n",
       "      <td>36.6%</td>\n",
       "      <td>2008.0</td>\n",
       "      <td>36.6%</td>\n",
       "      <td>2008.0</td>\n",
       "      <td>Africa</td>\n",
       "    </tr>\n",
       "  </tbody>\n",
       "</table>\n",
       "</div>"
      ],
      "text/plain": [
       "       Country WorldBank[7]    Year CIA[8]  Year.1 Continent\n",
       "0  Afghanistan        54.5%  2016.0  54.5%  2017.0      Asia\n",
       "1      Albania        14.3%  2012.0  14.3%  2012.0    Europe\n",
       "2      Algeria         5.5%  2011.0  23.0%  2006.0    Africa\n",
       "3      Andorra          NaN     NaN    NaN     NaN    Europe\n",
       "4       Angola        36.6%  2008.0  36.6%  2008.0    Africa"
      ]
     },
     "execution_count": 36,
     "metadata": {},
     "output_type": "execute_result"
    }
   ],
   "source": [
    "#new data\n",
    "\n",
    "data.head()"
   ]
  },
  {
   "cell_type": "code",
   "execution_count": 37,
   "metadata": {},
   "outputs": [],
   "source": [
    "data=data.dropna()"
   ]
  },
  {
   "cell_type": "code",
   "execution_count": 38,
   "metadata": {},
   "outputs": [
    {
     "name": "stdout",
     "output_type": "stream",
     "text": [
      "<class 'pandas.core.frame.DataFrame'>\n",
      "Int64Index: 129 entries, 0 to 208\n",
      "Data columns (total 6 columns):\n",
      "Country         129 non-null object\n",
      "WorldBank[7]    129 non-null object\n",
      "Year            129 non-null float64\n",
      "CIA[8]          129 non-null object\n",
      "Year.1          129 non-null float64\n",
      "Continent       129 non-null object\n",
      "dtypes: float64(2), object(4)\n",
      "memory usage: 7.1+ KB\n"
     ]
    }
   ],
   "source": [
    "data.info()"
   ]
  },
  {
   "cell_type": "code",
   "execution_count": 39,
   "metadata": {},
   "outputs": [
    {
     "data": {
      "text/html": [
       "<div>\n",
       "<style scoped>\n",
       "    .dataframe tbody tr th:only-of-type {\n",
       "        vertical-align: middle;\n",
       "    }\n",
       "\n",
       "    .dataframe tbody tr th {\n",
       "        vertical-align: top;\n",
       "    }\n",
       "\n",
       "    .dataframe thead th {\n",
       "        text-align: right;\n",
       "    }\n",
       "</style>\n",
       "<table border=\"1\" class=\"dataframe\">\n",
       "  <thead>\n",
       "    <tr style=\"text-align: right;\">\n",
       "      <th></th>\n",
       "      <th>Country</th>\n",
       "      <th>WorldBank[7]</th>\n",
       "      <th>Year</th>\n",
       "      <th>CIA[8]</th>\n",
       "      <th>Year.1</th>\n",
       "      <th>Continent</th>\n",
       "    </tr>\n",
       "  </thead>\n",
       "  <tbody>\n",
       "    <tr>\n",
       "      <th>0</th>\n",
       "      <td>Afghanistan</td>\n",
       "      <td>54.5%</td>\n",
       "      <td>2016.0</td>\n",
       "      <td>54.5%</td>\n",
       "      <td>2017.0</td>\n",
       "      <td>Asia</td>\n",
       "    </tr>\n",
       "    <tr>\n",
       "      <th>1</th>\n",
       "      <td>Albania</td>\n",
       "      <td>14.3%</td>\n",
       "      <td>2012.0</td>\n",
       "      <td>14.3%</td>\n",
       "      <td>2012.0</td>\n",
       "      <td>Europe</td>\n",
       "    </tr>\n",
       "    <tr>\n",
       "      <th>2</th>\n",
       "      <td>Algeria</td>\n",
       "      <td>5.5%</td>\n",
       "      <td>2011.0</td>\n",
       "      <td>23.0%</td>\n",
       "      <td>2006.0</td>\n",
       "      <td>Africa</td>\n",
       "    </tr>\n",
       "    <tr>\n",
       "      <th>4</th>\n",
       "      <td>Angola</td>\n",
       "      <td>36.6%</td>\n",
       "      <td>2008.0</td>\n",
       "      <td>36.6%</td>\n",
       "      <td>2008.0</td>\n",
       "      <td>Africa</td>\n",
       "    </tr>\n",
       "    <tr>\n",
       "      <th>7</th>\n",
       "      <td>Argentina</td>\n",
       "      <td>25.7%</td>\n",
       "      <td>2017.0</td>\n",
       "      <td>25.7%</td>\n",
       "      <td>2017.0</td>\n",
       "      <td>South America</td>\n",
       "    </tr>\n",
       "  </tbody>\n",
       "</table>\n",
       "</div>"
      ],
      "text/plain": [
       "       Country WorldBank[7]    Year CIA[8]  Year.1      Continent\n",
       "0  Afghanistan        54.5%  2016.0  54.5%  2017.0           Asia\n",
       "1      Albania        14.3%  2012.0  14.3%  2012.0         Europe\n",
       "2      Algeria         5.5%  2011.0  23.0%  2006.0         Africa\n",
       "4       Angola        36.6%  2008.0  36.6%  2008.0         Africa\n",
       "7    Argentina        25.7%  2017.0  25.7%  2017.0  South America"
      ]
     },
     "execution_count": 39,
     "metadata": {},
     "output_type": "execute_result"
    }
   ],
   "source": [
    "#new data\n",
    "\n",
    "data.head()"
   ]
  },
  {
   "cell_type": "code",
   "execution_count": 40,
   "metadata": {},
   "outputs": [],
   "source": [
    "data=data.rename(columns={'WorldBank[7]':'WorldBank',\n",
    "                          'CIA[8]':'CIA',})"
   ]
  },
  {
   "cell_type": "code",
   "execution_count": 41,
   "metadata": {},
   "outputs": [
    {
     "data": {
      "text/html": [
       "<div>\n",
       "<style scoped>\n",
       "    .dataframe tbody tr th:only-of-type {\n",
       "        vertical-align: middle;\n",
       "    }\n",
       "\n",
       "    .dataframe tbody tr th {\n",
       "        vertical-align: top;\n",
       "    }\n",
       "\n",
       "    .dataframe thead th {\n",
       "        text-align: right;\n",
       "    }\n",
       "</style>\n",
       "<table border=\"1\" class=\"dataframe\">\n",
       "  <thead>\n",
       "    <tr style=\"text-align: right;\">\n",
       "      <th></th>\n",
       "      <th>Country</th>\n",
       "      <th>WorldBank</th>\n",
       "      <th>Year</th>\n",
       "      <th>CIA</th>\n",
       "      <th>Year.1</th>\n",
       "      <th>Continent</th>\n",
       "    </tr>\n",
       "  </thead>\n",
       "  <tbody>\n",
       "    <tr>\n",
       "      <th>0</th>\n",
       "      <td>Afghanistan</td>\n",
       "      <td>54.5%</td>\n",
       "      <td>2016.0</td>\n",
       "      <td>54.5%</td>\n",
       "      <td>2017.0</td>\n",
       "      <td>Asia</td>\n",
       "    </tr>\n",
       "    <tr>\n",
       "      <th>1</th>\n",
       "      <td>Albania</td>\n",
       "      <td>14.3%</td>\n",
       "      <td>2012.0</td>\n",
       "      <td>14.3%</td>\n",
       "      <td>2012.0</td>\n",
       "      <td>Europe</td>\n",
       "    </tr>\n",
       "    <tr>\n",
       "      <th>2</th>\n",
       "      <td>Algeria</td>\n",
       "      <td>5.5%</td>\n",
       "      <td>2011.0</td>\n",
       "      <td>23.0%</td>\n",
       "      <td>2006.0</td>\n",
       "      <td>Africa</td>\n",
       "    </tr>\n",
       "    <tr>\n",
       "      <th>4</th>\n",
       "      <td>Angola</td>\n",
       "      <td>36.6%</td>\n",
       "      <td>2008.0</td>\n",
       "      <td>36.6%</td>\n",
       "      <td>2008.0</td>\n",
       "      <td>Africa</td>\n",
       "    </tr>\n",
       "    <tr>\n",
       "      <th>7</th>\n",
       "      <td>Argentina</td>\n",
       "      <td>25.7%</td>\n",
       "      <td>2017.0</td>\n",
       "      <td>25.7%</td>\n",
       "      <td>2017.0</td>\n",
       "      <td>South America</td>\n",
       "    </tr>\n",
       "  </tbody>\n",
       "</table>\n",
       "</div>"
      ],
      "text/plain": [
       "       Country WorldBank    Year    CIA  Year.1      Continent\n",
       "0  Afghanistan     54.5%  2016.0  54.5%  2017.0           Asia\n",
       "1      Albania     14.3%  2012.0  14.3%  2012.0         Europe\n",
       "2      Algeria      5.5%  2011.0  23.0%  2006.0         Africa\n",
       "4       Angola     36.6%  2008.0  36.6%  2008.0         Africa\n",
       "7    Argentina     25.7%  2017.0  25.7%  2017.0  South America"
      ]
     },
     "execution_count": 41,
     "metadata": {},
     "output_type": "execute_result"
    }
   ],
   "source": [
    "\n",
    "data.head()"
   ]
  },
  {
   "cell_type": "code",
   "execution_count": 42,
   "metadata": {},
   "outputs": [],
   "source": [
    "#removing the % \n",
    "\n",
    "data[\"WorldBank\"]=data[\"WorldBank\"].astype(str).str.replace(\"%\", \"\")"
   ]
  },
  {
   "cell_type": "code",
   "execution_count": 43,
   "metadata": {},
   "outputs": [],
   "source": [
    "data[\"CIA\"]=data[\"CIA\"].astype(str).str.replace(\"%\", \"\")"
   ]
  },
  {
   "cell_type": "code",
   "execution_count": 44,
   "metadata": {},
   "outputs": [],
   "source": [
    "#converting it to numeric data\n",
    "\n",
    "data[\"WorldBank\"] = data[\"WorldBank\"].apply(pd.to_numeric, errors='coerce').astype('float64')"
   ]
  },
  {
   "cell_type": "code",
   "execution_count": 45,
   "metadata": {},
   "outputs": [],
   "source": [
    "data[\"CIA\"] = data[\"CIA\"].apply(pd.to_numeric, errors='coerce').astype('float64')"
   ]
  },
  {
   "cell_type": "code",
   "execution_count": 46,
   "metadata": {},
   "outputs": [
    {
     "name": "stdout",
     "output_type": "stream",
     "text": [
      "<class 'pandas.core.frame.DataFrame'>\n",
      "Int64Index: 129 entries, 0 to 208\n",
      "Data columns (total 6 columns):\n",
      "Country      129 non-null object\n",
      "WorldBank    129 non-null float64\n",
      "Year         129 non-null float64\n",
      "CIA          129 non-null float64\n",
      "Year.1       129 non-null float64\n",
      "Continent    129 non-null object\n",
      "dtypes: float64(4), object(2)\n",
      "memory usage: 7.1+ KB\n"
     ]
    }
   ],
   "source": [
    "data.info()"
   ]
  },
  {
   "cell_type": "code",
   "execution_count": 47,
   "metadata": {},
   "outputs": [
    {
     "data": {
      "text/html": [
       "<div>\n",
       "<style scoped>\n",
       "    .dataframe tbody tr th:only-of-type {\n",
       "        vertical-align: middle;\n",
       "    }\n",
       "\n",
       "    .dataframe tbody tr th {\n",
       "        vertical-align: top;\n",
       "    }\n",
       "\n",
       "    .dataframe thead th {\n",
       "        text-align: right;\n",
       "    }\n",
       "</style>\n",
       "<table border=\"1\" class=\"dataframe\">\n",
       "  <thead>\n",
       "    <tr style=\"text-align: right;\">\n",
       "      <th></th>\n",
       "      <th>WorldBank</th>\n",
       "      <th>Year</th>\n",
       "      <th>CIA</th>\n",
       "      <th>Year.1</th>\n",
       "    </tr>\n",
       "  </thead>\n",
       "  <tbody>\n",
       "    <tr>\n",
       "      <th>WorldBank</th>\n",
       "      <td>1.000000</td>\n",
       "      <td>-0.383987</td>\n",
       "      <td>0.880895</td>\n",
       "      <td>-0.171414</td>\n",
       "    </tr>\n",
       "    <tr>\n",
       "      <th>Year</th>\n",
       "      <td>-0.383987</td>\n",
       "      <td>1.000000</td>\n",
       "      <td>-0.387404</td>\n",
       "      <td>0.491647</td>\n",
       "    </tr>\n",
       "    <tr>\n",
       "      <th>CIA</th>\n",
       "      <td>0.880895</td>\n",
       "      <td>-0.387404</td>\n",
       "      <td>1.000000</td>\n",
       "      <td>-0.170587</td>\n",
       "    </tr>\n",
       "    <tr>\n",
       "      <th>Year.1</th>\n",
       "      <td>-0.171414</td>\n",
       "      <td>0.491647</td>\n",
       "      <td>-0.170587</td>\n",
       "      <td>1.000000</td>\n",
       "    </tr>\n",
       "  </tbody>\n",
       "</table>\n",
       "</div>"
      ],
      "text/plain": [
       "           WorldBank      Year       CIA    Year.1\n",
       "WorldBank   1.000000 -0.383987  0.880895 -0.171414\n",
       "Year       -0.383987  1.000000 -0.387404  0.491647\n",
       "CIA         0.880895 -0.387404  1.000000 -0.170587\n",
       "Year.1     -0.171414  0.491647 -0.170587  1.000000"
      ]
     },
     "execution_count": 47,
     "metadata": {},
     "output_type": "execute_result"
    }
   ],
   "source": [
    "#data corr is a function to analyze the relation between various numeric datas\n",
    "#here we can see that the data of World Bank and CIA have 88% co relation \n",
    "#indicating that both presented similar data values\n",
    "\n",
    "data.corr()"
   ]
  },
  {
   "cell_type": "code",
   "execution_count": 49,
   "metadata": {},
   "outputs": [
    {
     "data": {
      "text/html": [
       "<div>\n",
       "<style scoped>\n",
       "    .dataframe tbody tr th:only-of-type {\n",
       "        vertical-align: middle;\n",
       "    }\n",
       "\n",
       "    .dataframe tbody tr th {\n",
       "        vertical-align: top;\n",
       "    }\n",
       "\n",
       "    .dataframe thead th {\n",
       "        text-align: right;\n",
       "    }\n",
       "</style>\n",
       "<table border=\"1\" class=\"dataframe\">\n",
       "  <thead>\n",
       "    <tr style=\"text-align: right;\">\n",
       "      <th></th>\n",
       "      <th>Country</th>\n",
       "      <th>WorldBank</th>\n",
       "      <th>Year</th>\n",
       "      <th>CIA</th>\n",
       "      <th>Year.1</th>\n",
       "      <th>Continent</th>\n",
       "    </tr>\n",
       "  </thead>\n",
       "  <tbody>\n",
       "    <tr>\n",
       "      <th>0</th>\n",
       "      <td>Afghanistan</td>\n",
       "      <td>54.5</td>\n",
       "      <td>2016.0</td>\n",
       "      <td>54.5</td>\n",
       "      <td>2017.0</td>\n",
       "      <td>Asia</td>\n",
       "    </tr>\n",
       "    <tr>\n",
       "      <th>1</th>\n",
       "      <td>Albania</td>\n",
       "      <td>14.3</td>\n",
       "      <td>2012.0</td>\n",
       "      <td>14.3</td>\n",
       "      <td>2012.0</td>\n",
       "      <td>Europe</td>\n",
       "    </tr>\n",
       "    <tr>\n",
       "      <th>2</th>\n",
       "      <td>Algeria</td>\n",
       "      <td>5.5</td>\n",
       "      <td>2011.0</td>\n",
       "      <td>23.0</td>\n",
       "      <td>2006.0</td>\n",
       "      <td>Africa</td>\n",
       "    </tr>\n",
       "    <tr>\n",
       "      <th>4</th>\n",
       "      <td>Angola</td>\n",
       "      <td>36.6</td>\n",
       "      <td>2008.0</td>\n",
       "      <td>36.6</td>\n",
       "      <td>2008.0</td>\n",
       "      <td>Africa</td>\n",
       "    </tr>\n",
       "    <tr>\n",
       "      <th>7</th>\n",
       "      <td>Argentina</td>\n",
       "      <td>25.7</td>\n",
       "      <td>2017.0</td>\n",
       "      <td>25.7</td>\n",
       "      <td>2017.0</td>\n",
       "      <td>South America</td>\n",
       "    </tr>\n",
       "  </tbody>\n",
       "</table>\n",
       "</div>"
      ],
      "text/plain": [
       "       Country  WorldBank    Year   CIA  Year.1      Continent\n",
       "0  Afghanistan       54.5  2016.0  54.5  2017.0           Asia\n",
       "1      Albania       14.3  2012.0  14.3  2012.0         Europe\n",
       "2      Algeria        5.5  2011.0  23.0  2006.0         Africa\n",
       "4       Angola       36.6  2008.0  36.6  2008.0         Africa\n",
       "7    Argentina       25.7  2017.0  25.7  2017.0  South America"
      ]
     },
     "execution_count": 49,
     "metadata": {},
     "output_type": "execute_result"
    }
   ],
   "source": [
    "data.head()"
   ]
  },
  {
   "cell_type": "code",
   "execution_count": 50,
   "metadata": {},
   "outputs": [
    {
     "data": {
      "text/plain": [
       "129"
      ]
     },
     "execution_count": 50,
     "metadata": {},
     "output_type": "execute_result"
    }
   ],
   "source": [
    "len(data)"
   ]
  },
  {
   "cell_type": "code",
   "execution_count": 60,
   "metadata": {},
   "outputs": [
    {
     "data": {
      "text/plain": [
       "30.878294573643412"
      ]
     },
     "execution_count": 60,
     "metadata": {},
     "output_type": "execute_result"
    }
   ],
   "source": [
    "#percentage people worldwide\n",
    "\n",
    "#around 30.87 people worldwide live in poor conditions\n",
    "\n",
    "wb_num=((data['WorldBank'].sum())/129)\n",
    "wb_num"
   ]
  },
  {
   "cell_type": "code",
   "execution_count": null,
   "metadata": {},
   "outputs": [],
   "source": []
  }
 ],
 "metadata": {
  "kernelspec": {
   "display_name": "Python 3",
   "language": "python",
   "name": "python3"
  },
  "language_info": {
   "codemirror_mode": {
    "name": "ipython",
    "version": 3
   },
   "file_extension": ".py",
   "mimetype": "text/x-python",
   "name": "python",
   "nbconvert_exporter": "python",
   "pygments_lexer": "ipython3",
   "version": "3.7.3"
  }
 },
 "nbformat": 4,
 "nbformat_minor": 2
}
